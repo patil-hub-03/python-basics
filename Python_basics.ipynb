{
  "nbformat": 4,
  "nbformat_minor": 0,
  "metadata": {
    "colab": {
      "provenance": []
    },
    "kernelspec": {
      "name": "python3",
      "display_name": "Python 3"
    },
    "language_info": {
      "name": "python"
    }
  },
  "cells": [
    {
      "cell_type": "markdown",
      "source": [
        "# Python Basics\n",
        "  "
      ],
      "metadata": {
        "id": "8aFdaenBy73Y"
      }
    },
    {
      "cell_type": "markdown",
      "source": [
        "1. What is Python,and why is it popular?\n",
        "-  Python is a popular, genernal purpose programming language knows as readability and versatility.\n",
        "\n",
        "  2.Why is it popular?\n",
        "\n",
        "- first of all  python are widely use in industry ex. (data industry,data analysis,data scientisc...etc)\n",
        "- python as a lot of libraries(panda,Numpy,matplotib...etc..)\n",
        "- number of libraries 1,37,000\n",
        "-python is case sensitive programming Language\n",
        "-easy to learn\n",
        "-people are actively community\n",
        "\n",
        "2. what is interpreterin python ?\n",
        "- An interpreter reads and executes your code line by line, as you run it. There's no separate step of translating the whole thing into machine code beforehand.\n",
        "\n",
        "3. What are pre-defined keyworld in python /\n",
        "- keyworld are pre-defined world that holds a specific meaning and have specific purpose in python\n",
        "- false, class, from,or,none,continue,pass,true,def,if,raise,and,del,import,return,as,in ,try...etc\n",
        "\n",
        "4. can keyworld be used as variable names?\n",
        "- No, keywords cannot be used as variable names in Python (or most other programming languages). Keywords are reserved words with special meanings to the Python interpreter. If you try to use a keyword as a variable name, you'll get a SyntaxError\n",
        "\n",
        "5. what is mutability in python?\n",
        "- mutability object are those whose values can be changed after thet are created .means change if you can edit something.\n",
        "- 'raj' change 'vijay'in block list\n",
        "\n",
        "6. Why are lists mutable ,but tuples are immutable ?\n",
        "- list mutable because they are designed to be flexible and dynamic. you need to add,remove,and change items in a list and mutability allow you to do that directly. and list tuples are less memory efficient and slower.\n",
        "tuples-> are immutable beccause they are designed to be usedd for data that should not be changed. this can be reason security,efficient.tuples performance are more fast.\n",
        "\n",
        "7. what is the different between \"==\" and \"is\" operator in python?\n",
        "- they two operator are different purpose\n",
        "\"==\" (equal opperator)\n",
        "- check two object are similar\n",
        "- two object equal\n",
        "\n",
        "is(identity operator)\n",
        "- check if two variable refer to the same object in memory\n",
        "- compares the memory addresses of the object\n",
        "\n",
        "8. what are logical operator in python ?\n",
        "- And\n",
        "- OR\n",
        "- Not\n",
        "\n",
        "9.  what is type casting in python ?\n",
        "- type casting are converting to a one data type to another data type .\n",
        "- value /object change data type .\n",
        "\n",
        "10. what is the different between implicit and explicit type casting?\n",
        "- Implicit and explicit type casting are both ways to convert data from one type to another in Python, but they differ in how the conversion happens:\n",
        "\n",
        "Implicit Type Casting (Coercion):\n",
        "\n",
        "Automatic: Python automatically performs the type conversion behind the scenes. You, the programmer, don't write any specific code to do it.\n",
        "\n",
        "Explicit Type Casting:\n",
        "\n",
        "Manual: You, the programmer, explicitly tell Python to convert a value from one type to another using built-in functions.\n",
        "\n",
        "Controlled: You have full control over when and how the conversion happens.\n",
        "\n",
        "Necessary in some cases: Required when Python can't automatically figure out the conversion or when you need a specific type.\n",
        "\n",
        "11. What is the purpose of conditional statements in Python?\n",
        "-Conditional statements in Python control the flow of execution, allowing your program to make decisions and execute different code blocks based on whether conditions are true or false.  They add logic and flexibility.\n",
        "- if\n",
        "- if -else\n",
        "- if-elif-else\n",
        "- nested if else\n",
        "\n",
        "12. How does the elif statement work?\n",
        "- elif is used when you have multiple condition.only the code block associated with the first true condition is excuted .\n",
        "- condition are false code node excuted block.\n",
        "\n",
        "13. What is the difference between for and while loops?\n",
        "- both for and while loop in pythonare used for repetitive exeution of code block\n",
        "- for loop ->"
      ],
      "metadata": {
        "id": "glPqYeZqzxlX"
      }
    },
    {
      "cell_type": "markdown",
      "source": [
        "  14. Describe a scenario where a while loop is more suitable than a for loop.\n",
        "  - while loop repeatally executed a block of code until a condition is meet .\n",
        "  - ex. life is a loof . morning,afternoon,evening,night and after morning same ."
      ],
      "metadata": {
        "id": "BCha6bgnkYmN"
      }
    },
    {
      "cell_type": "code",
      "execution_count": null,
      "metadata": {
        "id": "rJTeflimyve_"
      },
      "outputs": [],
      "source": []
    },
    {
      "cell_type": "markdown",
      "source": [
        "# practical Question  \n"
      ],
      "metadata": {
        "id": "X6XP2hRnyU7E"
      }
    },
    {
      "cell_type": "markdown",
      "source": [
        "1. Write a Python program to print \"Hello, World!\"?"
      ],
      "metadata": {
        "id": "SYnZx8flyqXC"
      }
    },
    {
      "cell_type": "code",
      "source": [
        "print(\"hello world\")"
      ],
      "metadata": {
        "colab": {
          "base_uri": "https://localhost:8080/"
        },
        "id": "B-tIEWZUzIxg",
        "outputId": "c76e7804-eb60-4f8a-87b3-1c8bafedf829"
      },
      "execution_count": null,
      "outputs": [
        {
          "output_type": "stream",
          "name": "stdout",
          "text": [
            "hello world\n"
          ]
        }
      ]
    },
    {
      "cell_type": "markdown",
      "source": [
        "  2. 2. Write a Python program that displays your name and age."
      ],
      "metadata": {
        "id": "SWk1ayfdzWZ8"
      }
    },
    {
      "cell_type": "code",
      "source": [
        "#define variable for name and age\n",
        "name = \"raj\"\n",
        "age = 20\n",
        "print(name)\n",
        "print(age)"
      ],
      "metadata": {
        "colab": {
          "base_uri": "https://localhost:8080/"
        },
        "id": "wwlX1WdyzeDR",
        "outputId": "825471ed-cda2-4b4c-e124-f00e14c5f066"
      },
      "execution_count": null,
      "outputs": [
        {
          "output_type": "stream",
          "name": "stdout",
          "text": [
            "raj\n",
            "20\n"
          ]
        }
      ]
    },
    {
      "cell_type": "markdown",
      "source": [
        " 3. . Write code to print all the pre-defined keywords in Python using the keyword.."
      ],
      "metadata": {
        "id": "RW9Go_Eu0xrG"
      }
    },
    {
      "cell_type": "code",
      "source": [
        "name=input(\"enter your name\")\n",
        "print(\"raj\")"
      ],
      "metadata": {
        "colab": {
          "base_uri": "https://localhost:8080/"
        },
        "id": "5TIRSihh03sD",
        "outputId": "9ef8e4ca-a125-4ca4-99f4-e656ff14a099"
      },
      "execution_count": null,
      "outputs": [
        {
          "output_type": "stream",
          "name": "stdout",
          "text": [
            "enter your namedevraj\n",
            "raj\n"
          ]
        }
      ]
    },
    {
      "cell_type": "markdown",
      "source": [
        " 4. 4. Write a program that checks if a given word is a Python keyword."
      ],
      "metadata": {
        "id": "QtHjKdGY2uU0"
      }
    },
    {
      "cell_type": "code",
      "source": [
        "#define variable\n",
        "age =21\n",
        "if age >=18 :\n",
        "    print(\"you are eligible for vote\") # Indented this line by 4 spaces\n",
        "else:\n",
        "    print(\"you are not eligible for vote\") # Indented this line by 4 spaces"
      ],
      "metadata": {
        "colab": {
          "base_uri": "https://localhost:8080/"
        },
        "id": "Bc2hZzyR6MM0",
        "outputId": "5da82f0c-c120-404c-bff6-354b82c2e64a"
      },
      "execution_count": 25,
      "outputs": [
        {
          "output_type": "stream",
          "name": "stdout",
          "text": [
            "you are eligible for vote\n"
          ]
        }
      ]
    },
    {
      "cell_type": "markdown",
      "source": [
        " 5. Create a list and tuple in Python, and demonstrate how attempting to change an element works differently for each."
      ],
      "metadata": {
        "id": "ZaZtJ1hd6Rmm"
      }
    },
    {
      "cell_type": "code",
      "source": [
        "# Create a list\n",
        "my_list = [1, 2, 3, 4, 5]\n",
        "\n",
        "# Create a tuple\n",
        "my_tuple = (1, 2, 3, 4, 5)\n",
        "\n",
        "# Attempt to change an element in the list\n",
        "my_list[2] = 10  # This will work, lists are mutable\n",
        "\n",
        "# Attempt to change an element in the tuple\n",
        "try:\n",
        "    my_tuple[2] = 10  # This will raise a TypeError\n",
        "except TypeError as e:\n",
        "    print(f\"Error: {e}\")  # Output: Error: 'tuple' object does not support item assignment\n",
        "\n",
        "# Print the list and tuple after the attempted changes\n",
        "print(\"List after change:\", my_list)  # Output: List after change: [1, 2, 10, 4, 5]\n",
        "print(\"Tuple after change:\", my_tuple)  # Output: Tuple after change: (1, 2, 3, 4, 5)"
      ],
      "metadata": {
        "colab": {
          "base_uri": "https://localhost:8080/"
        },
        "id": "jnmYcUx5FNQX",
        "outputId": "a0ddcc0c-1223-41b1-9096-321a8bf92121"
      },
      "execution_count": 39,
      "outputs": [
        {
          "output_type": "stream",
          "name": "stdout",
          "text": [
            "Error: 'tuple' object does not support item assignment\n",
            "List after change: [1, 2, 10, 4, 5]\n",
            "Tuple after change: (1, 2, 3, 4, 5)\n"
          ]
        }
      ]
    },
    {
      "cell_type": "markdown",
      "source": [
        "6. Write a function to demonstrate the behavior of mutable and immutable arguments. italicized text"
      ],
      "metadata": {
        "id": "dEgqOr-AFZm1"
      }
    },
    {
      "cell_type": "code",
      "source": [
        "#create a list\n",
        "my_list = [1, 2, 3, 4, 5]\n",
        "\n",
        "# Assuming you meant to modify 'my_list':\n",
        "my_list[4] = 'raj'  # Removed unexpected indent, corrected variable name\n",
        "print('raj')"
      ],
      "metadata": {
        "colab": {
          "base_uri": "https://localhost:8080/"
        },
        "id": "Vpfydy28FicI",
        "outputId": "69629942-b807-4de5-e778-4d7a145d3a2b"
      },
      "execution_count": 44,
      "outputs": [
        {
          "output_type": "stream",
          "name": "stdout",
          "text": [
            "raj\n"
          ]
        }
      ]
    },
    {
      "cell_type": "markdown",
      "source": [
        "7. Write a program that performs basic arithmetic operations on two user-input numbers.\n"
      ],
      "metadata": {
        "id": "3L49E8SHGzLM"
      }
    },
    {
      "cell_type": "code",
      "source": [
        "#arithmatic operation\n",
        "a=8\n",
        "b=6\n",
        "print(a+b)"
      ],
      "metadata": {
        "colab": {
          "base_uri": "https://localhost:8080/"
        },
        "id": "SF-caQTmG-Ny",
        "outputId": "22d8cf10-5fbe-44d0-908c-8c5efec0338a"
      },
      "execution_count": 45,
      "outputs": [
        {
          "output_type": "stream",
          "name": "stdout",
          "text": [
            "14\n"
          ]
        }
      ]
    },
    {
      "cell_type": "code",
      "source": [
        "#arithmatic operation\n",
        "a=6\n",
        "b=4\n",
        "c=7\n",
        "d=4\n",
        "print(a+b)\n",
        "print(c+d)\n",
        "print(10+11)"
      ],
      "metadata": {
        "colab": {
          "base_uri": "https://localhost:8080/"
        },
        "id": "GWBitaPZH41_",
        "outputId": "e8d2b3e1-dff9-4ab9-92c3-ce51b9534bb5"
      },
      "execution_count": 50,
      "outputs": [
        {
          "output_type": "stream",
          "name": "stdout",
          "text": [
            "10\n",
            "11\n",
            "21\n"
          ]
        }
      ]
    },
    {
      "cell_type": "markdown",
      "source": [
        " 8. Write a program to demonstrate the use of logical operators."
      ],
      "metadata": {
        "id": "-bKmufJCKPPy"
      }
    },
    {
      "cell_type": "code",
      "source": [
        "# Logical Operators in Python\n",
        "\n",
        "# AND Operator (and)\n",
        "\n",
        "print(\"--- AND Operator ---\")\n",
        "\n",
        "print (True and True)\n",
        "print (True and False)\n",
        "print(False and True)\n",
        "print(False and False)\n",
        "\n",
        "x = 5\n",
        "y = 10\n",
        "\n",
        "print(x > 0 and y < 15)\n",
        "print(x < 0 and y < 15)"
      ],
      "metadata": {
        "colab": {
          "base_uri": "https://localhost:8080/"
        },
        "id": "gaqAkQOvLGyb",
        "outputId": "4dec78e6-e9a6-4bf3-c74c-313a7c25f296"
      },
      "execution_count": 51,
      "outputs": [
        {
          "output_type": "stream",
          "name": "stdout",
          "text": [
            "--- AND Operator ---\n",
            "True\n",
            "False\n",
            "False\n",
            "False\n",
            "True\n",
            "False\n"
          ]
        }
      ]
    },
    {
      "cell_type": "markdown",
      "source": [
        " 9. Write a Python program to convert user input from string to integer, float, and boolean types"
      ],
      "metadata": {
        "id": "UyQjnR_ZMXJG"
      }
    },
    {
      "cell_type": "code",
      "source": [
        "#typecasting converting value and object\n",
        "\n",
        "a=\"2\"\n",
        "b=3\n",
        "print(a + str(b))\n",
        "#typecasting converting value and object\n",
        "\n",
        "a=\"2\"\n",
        "b=3\n",
        "print(a + str(b))\n",
        "\n",
        "print(type(a))\n",
        "print(type(int(a)))\n"
      ],
      "metadata": {
        "colab": {
          "base_uri": "https://localhost:8080/"
        },
        "id": "XJk6Z-TAMm1e",
        "outputId": "8ec4da26-05ab-450d-d570-d866121ca19d"
      },
      "execution_count": 58,
      "outputs": [
        {
          "output_type": "stream",
          "name": "stdout",
          "text": [
            "23\n",
            "23\n",
            "<class 'str'>\n",
            "<class 'int'>\n"
          ]
        }
      ]
    },
    {
      "cell_type": "markdown",
      "source": [
        " 10. Write a Python program to convert user input from string to integer, float, and boolean types"
      ],
      "metadata": {
        "id": "kG18TaePOdhE"
      }
    },
    {
      "cell_type": "code",
      "source": [
        "def convert_input():\n",
        "    \"\"\"Converts user input to integer, float, and boolean types.\"\"\"\n",
        "\n",
        "    user_input = input(\"Enter a value: \")\n",
        "\n",
        "    try:\n",
        "        # Attempt to convert to integer\n",
        "        integer_value = int(user_input)\n",
        "        print(\"Integer:\", integer_value)\n",
        "    except ValueError:\n",
        "        print(\"Could not convert to integer.\")\n",
        "\n",
        "    try:\n",
        "        # Attempt to convert to float\n",
        "        float_value = float(user_input)\n",
        "        print(\"Float:\", float_value)\n",
        "    except ValueError:\n",
        "        print(\"Could not convert to float.\")\n",
        "\n",
        "    # Attempt to convert to boolean (case-insensitive)\n",
        "    boolean_value = user_input.lower() in (\"true\", \"1\", \"t\", \"y\", \"yes\")\n",
        "    print(\"Boolean:\", boolean_value)\n",
        "\n",
        "# Call the function to execute\n",
        "convert_input()"
      ],
      "metadata": {
        "colab": {
          "base_uri": "https://localhost:8080/"
        },
        "id": "D54v4nueOpsk",
        "outputId": "839317a1-a805-44f6-f8dd-51b5cbcb840a"
      },
      "execution_count": 59,
      "outputs": [
        {
          "output_type": "stream",
          "name": "stdout",
          "text": [
            "Enter a value: 23\n",
            "Integer: 23\n",
            "Float: 23.0\n",
            "Boolean: False\n"
          ]
        }
      ]
    },
    {
      "cell_type": "markdown",
      "source": [
        "11. Write a program that checks if a number is positive, negative, or zero."
      ],
      "metadata": {
        "id": "SbBghdhLO_wR"
      }
    },
    {
      "cell_type": "code",
      "source": [
        "\n",
        "def check_number(number):\n",
        "    if number > 0:\n",
        "        print(\"Positive\")\n",
        "    elif number < 0:\n",
        "        print(\"Negative\")\n",
        "    else:\n",
        "        print(\"Zero\")\n",
        "# Example usage\n",
        "check_number(5)\n",
        "check_number(-3)\n",
        "check_number(0)\n"
      ],
      "metadata": {
        "colab": {
          "base_uri": "https://localhost:8080/"
        },
        "id": "LhJR3nNbPYqp",
        "outputId": "f9e3a69f-e734-467d-dfa9-4f491190cf53"
      },
      "execution_count": 60,
      "outputs": [
        {
          "output_type": "stream",
          "name": "stdout",
          "text": [
            "Positive\n",
            "Negative\n",
            "Zero\n"
          ]
        }
      ]
    },
    {
      "cell_type": "markdown",
      "source": [
        " 12. Write a for loop to print numbers from 1 to 10."
      ],
      "metadata": {
        "id": "38SKaBRgPu7c"
      }
    },
    {
      "cell_type": "code",
      "source": [
        "for i in range(1,11):\n",
        "    print(i)"
      ],
      "metadata": {
        "colab": {
          "base_uri": "https://localhost:8080/"
        },
        "id": "TH_5J8ICQQld",
        "outputId": "1040644b-e179-4b37-c0d6-68c70510c844"
      },
      "execution_count": 62,
      "outputs": [
        {
          "output_type": "stream",
          "name": "stdout",
          "text": [
            "1\n",
            "2\n",
            "3\n",
            "4\n",
            "5\n",
            "6\n",
            "7\n",
            "8\n",
            "9\n",
            "10\n"
          ]
        }
      ]
    },
    {
      "cell_type": "markdown",
      "source": [
        " 13. Write a Python program to find the sum of all even numbers between 1 and 50."
      ],
      "metadata": {
        "id": "jnZMf5kbQorc"
      }
    },
    {
      "cell_type": "code",
      "source": [
        "\n",
        "sum_of_evens = 0\n",
        "for i in range(2, 51, 2):\n",
        "    sum_of_evens += i\n",
        "\n",
        "print(f\"The sum of all even numbers between 1 and 50 is: {sum_of_evens}\")\n"
      ],
      "metadata": {
        "colab": {
          "base_uri": "https://localhost:8080/"
        },
        "id": "XtO1TNtAQ2M5",
        "outputId": "a1da2161-0e0f-4fff-8440-45849498ab8f"
      },
      "execution_count": 63,
      "outputs": [
        {
          "output_type": "stream",
          "name": "stdout",
          "text": [
            "The sum of all even numbers between 1 and 50 is: 650\n"
          ]
        }
      ]
    },
    {
      "cell_type": "markdown",
      "source": [
        " 14. Write a program to reverse a string using a while loop"
      ],
      "metadata": {
        "id": "voRsty3PRFFW"
      }
    },
    {
      "cell_type": "code",
      "source": [
        "def reverse_string(input_string):\n",
        "  \"\"\"Reverses a string using a while loop.\n",
        "\n",
        "  Args:\n",
        "    input_string: The string to be reversed.\n",
        "\n",
        "  Returns:\n",
        "    The reversed string.\n",
        "  \"\"\"\n",
        "  reversed_string = \"\"\n",
        "  index = len(input_string) - 1  # Start from the last index\n",
        "\n",
        "  while index >= 0:\n",
        "    reversed_string += input_string[index]  # Add character to reversed string\n",
        "    index -= 1  # Move to the previous index\n",
        "\n",
        "  return reversed_string\n",
        "\n",
        "# Get input from the user\n",
        "string_to_reverse = input(\"Enter a string: \")\n",
        "\n",
        "# Call the function to reverse the string\n",
        "reversed_string = reverse_string(string_to_reverse)\n",
        "\n",
        "# Print the reversed string\n",
        "print(\"Reversed string:\", reversed_string)"
      ],
      "metadata": {
        "colab": {
          "base_uri": "https://localhost:8080/"
        },
        "id": "HSfS5gRzR0fA",
        "outputId": "26a7a647-4807-4a30-f326-a076ad10efdf"
      },
      "execution_count": 68,
      "outputs": [
        {
          "output_type": "stream",
          "name": "stdout",
          "text": [
            "Enter a string: r\n",
            "Reversed string: r\n"
          ]
        }
      ]
    },
    {
      "cell_type": "markdown",
      "source": [
        " 15. Write a Python program to calculate the factorial of a number provided by the user using a while.\n",
        ""
      ],
      "metadata": {
        "id": "J0CqnswxSCtj"
      }
    },
    {
      "cell_type": "code",
      "source": [
        "\n",
        "\n",
        "def factorial_while(n):\n",
        "    \"\"\"Calculates the factorial of a non-negative integer using a while loop.\n",
        "\n",
        "    Args:\n",
        "      n: The non-negative integer.\n",
        "\n",
        "    Returns:\n",
        "      The factorial of n, or 1 if n is 0.\n",
        "      Returns an error message if n is negative.\n",
        "    \"\"\"\n",
        "    if n < 0:\n",
        "        return \"Factorial is not defined for negative numbers.\"\n",
        "    elif n == 0:\n",
        "        return 1\n",
        "    else:\n",
        "        factorial = 1\n",
        "        i = 1\n",
        "        while i <= n:\n",
        "            factorial *= i\n",
        "            i += 1\n",
        "        return factorial\n",
        "\n",
        "# Get input from the user\n",
        "num = int(input(\"Enter a non-negative integer: \"))\n",
        "\n",
        "# Calculate and print the factorial\n",
        "result = factorial_while(num)\n",
        "print(f\"The factorial of {num} is {result}\")\n"
      ],
      "metadata": {
        "colab": {
          "base_uri": "https://localhost:8080/"
        },
        "id": "VcHSoxToSH_o",
        "outputId": "ce8e5716-d7b9-449c-9e1f-58ec11a4b58c"
      },
      "execution_count": 69,
      "outputs": [
        {
          "output_type": "stream",
          "name": "stdout",
          "text": [
            "Enter a non-negative integer: 3\n",
            "The factorial of 3 is 6\n"
          ]
        }
      ]
    }
  ]
}